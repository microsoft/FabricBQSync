{
 "cells": [
  {
   "cell_type": "markdown",
   "id": "ac814541-5efa-434d-93a6-096b3a7d7e1e",
   "metadata": {
    "nteract": {
     "transient": {
      "deleting": false
     }
    }
   },
   "source": [
    "# Fabric Sync Data Maintenance"
   ]
  },
  {
   "cell_type": "code",
   "execution_count": null,
   "id": "cc768c48-3c3e-455b-850d-a48d363834c4",
   "metadata": {
    "jupyter": {
     "outputs_hidden": true,
     "source_hidden": false
    },
    "microsoft": {
     "language": "python",
     "language_group": "synapse_pyspark"
    },
    "nteract": {
     "transient": {
      "deleting": false
     }
    }
   },
   "outputs": [],
   "source": [
    "%pip install FabricSync>='<<<VERSION>>>'  --quiet --disable-pip-version-check --upgrade"
   ]
  },
  {
   "cell_type": "code",
   "execution_count": null,
   "id": "8c479e7b-120c-45b7-8363-adb7b9450ee6",
   "metadata": {
    "jupyter": {
     "outputs_hidden": true,
     "source_hidden": false
    },
    "microsoft": {
     "language": "python",
     "language_group": "synapse_pyspark"
    },
    "nteract": {
     "transient": {
      "deleting": false
     }
    },
    "tags": [
     "parameters"
    ]
   },
   "outputs": [],
   "source": [
    "config_json_path = \"<<<PATH_TO_USER_CONFIG>>>\""
   ]
  },
  {
   "cell_type": "code",
   "execution_count": null,
   "id": "d76a0dda-8c58-4eb6-85e8-c67e9ec86442",
   "metadata": {
    "jupyter": {
     "outputs_hidden": false,
     "source_hidden": false
    },
    "microsoft": {
     "language": "python",
     "language_group": "synapse_pyspark"
    },
    "nteract": {
     "transient": {
      "deleting": false
     }
    }
   },
   "outputs": [],
   "source": [
    "from FabricSync.BQ.Maintenance import FabricSyncMaintenance\n",
    "\n",
    "credential_provider = notebookutils.credentials\n",
    "fabric_maintenance = FabricSyncMaintenance(config_json_path, credential_provider)\n",
    "fabric_maintenance.run()"
   ]
  }
 ],
 "metadata": {
  "dependencies": {
   "environment": {},
   "lakehouse": {}
  },
  "kernel_info": {
   "name": "synapse_pyspark"
  },
  "kernelspec": {
   "display_name": "Synapse PySpark",
   "language": "Python",
   "name": "synapse_pyspark"
  },
  "language_info": {
   "name": "python"
  },
  "microsoft": {
   "language": "python",
   "language_group": "synapse_pyspark",
   "ms_spell_check": {
    "ms_spell_check_language": "en"
   }
  },
  "nteract": {
   "version": "nteract-front-end@1.0.0"
  },
  "spark_compute": {
   "compute_id": "/trident/default",
   "session_options": {
    "conf": {
     "spark.synapse.nbs.session.timeout": "1200000"
    }
   }
  },
  "synapse_widget": {
   "state": {},
   "version": "0.1"
  },
  "widgets": {}
 },
 "nbformat": 4,
 "nbformat_minor": 5
}
