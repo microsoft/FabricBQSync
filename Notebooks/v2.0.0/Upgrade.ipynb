{
 "cells": [
  {
   "cell_type": "markdown",
   "id": "6466d3e5-80a4-4a89-a9f8-74f49d6184a9",
   "metadata": {
    "microsoft": {
     "language": "python",
     "language_group": "synapse_pyspark"
    },
    "nteract": {
     "transient": {
      "deleting": false
     }
    }
   },
   "source": [
    "# BQ Sync Upgrade\n",
    "\n",
    "Before you begin:\n",
    "1. <mark>Attached this notebook to your metadata lakehouse within your workspace</mark>. \n",
    "2. Start your sessions and walk-through the upgrade  notebook\n",
    "3. Update the environment configuration data as required below"
   ]
  },
  {
   "cell_type": "code",
   "execution_count": null,
   "id": "50469d64-43fa-4a5e-99db-90e3ef79d1d6",
   "metadata": {
    "jupyter": {
     "outputs_hidden": false,
     "source_hidden": false
    },
    "microsoft": {
     "language": "python",
     "language_group": "synapse_pyspark"
    },
    "nteract": {
     "transient": {
      "deleting": false
     }
    }
   },
   "outputs": [],
   "source": [
    "%%configure -f\n",
    "{\n",
    "    \"defaultLakehouse\": {\n",
    "        \"name\": \"<<MY METADATA WORKSPACE NAME>>\"\n",
    "    }\n",
    "}"
   ]
  },
  {
   "cell_type": "code",
   "execution_count": null,
   "id": "fb7a4f49-058d-4216-97b0-d2f516441a6a",
   "metadata": {
    "editable": true,
    "jupyter": {
     "outputs_hidden": false,
     "source_hidden": false
    },
    "microsoft": {
     "language": "python",
     "language_group": "synapse_pyspark"
    },
    "nteract": {
     "transient": {
      "deleting": false
     }
    },
    "run_control": {
     "frozen": false
    }
   },
   "outputs": [],
   "source": [
    "%pip install FabricSync  --quiet --disable-pip-version-check"
   ]
  },
  {
   "cell_type": "markdown",
   "id": "a7f2e921-5ddd-4b86-8e5f-8bc84aa76237",
   "metadata": {
    "microsoft": {
     "language": "python",
     "language_group": "synapse_pyspark"
    },
    "nteract": {
     "transient": {
      "deleting": false
     }
    }
   },
   "source": [
    "### Configure\n",
    "\n",
    "1. BQ Sync Config JSON File\n",
    "    - Your current BQ Sync configuration file\n",
    "    - The <code>config_file</code> is the File API Path to your JSON config file <br />\n",
    "    Example: <code>/lakehouse/default/Files/BQ_Sync_Process/config/bq_config_sync.json</code>\n",
    "2. Boolean flag for config file only upgrade\n",
    "    - Set to true when you run multiple configurations and your environment has been previously upgraded"
   ]
  },
  {
   "cell_type": "code",
   "execution_count": null,
   "id": "d56a8854-71f4-4880-8f2b-3ea7a53cb50e",
   "metadata": {
    "jupyter": {
     "outputs_hidden": false,
     "source_hidden": false
    },
    "microsoft": {
     "language": "python",
     "language_group": "synapse_pyspark"
    },
    "nteract": {
     "transient": {
      "deleting": false
     }
    }
   },
   "outputs": [],
   "source": [
    "data = {\n",
    "    \"config_file\": \"/lakehouse/default/Files/BQ_Sync_Process/config/[YOUR CURRENT CONFIG FILE].json\",\n",
    "    \"config_file_only\": False\n",
    "}"
   ]
  },
  {
   "cell_type": "code",
   "execution_count": null,
   "id": "939f82a6-3886-422c-a297-0354888f66f4",
   "metadata": {
    "jupyter": {
     "outputs_hidden": false,
     "source_hidden": false
    },
    "microsoft": {
     "language": "python",
     "language_group": "synapse_pyspark"
    },
    "nteract": {
     "transient": {
      "deleting": false
     }
    }
   },
   "outputs": [],
   "source": [
    "from FabricSync.Setup.FabricSetup import Installer\n",
    "\n",
    "token = mssparkutils.credentials.getToken(\"https://api.fabric.microsoft.com/\")\n",
    "\n",
    "installer = Installer(context=spark, api_token=token)\n",
    "installer.upgrade(data)"
   ]
  }
 ],
 "metadata": {
  "dependencies": {
   "environment": {},
   "lakehouse": {}
  },
  "kernel_info": {
   "name": "synapse_pyspark"
  },
  "kernelspec": {
   "display_name": "Synapse PySpark",
   "language": "Python",
   "name": "synapse_pyspark"
  },
  "language_info": {
   "name": "python"
  },
  "microsoft": {
   "language": "python",
   "language_group": "synapse_pyspark",
   "ms_spell_check": {
    "ms_spell_check_language": "en"
   }
  },
  "nteract": {
   "version": "nteract-front-end@1.0.0"
  },
  "spark_compute": {
   "compute_id": "/trident/default",
   "session_options": {
    "conf": {
     "spark.synapse.nbs.session.timeout": "1200000"
    }
   }
  },
  "synapse_widget": {
   "state": {},
   "version": "0.1"
  },
  "widgets": {}
 },
 "nbformat": 4,
 "nbformat_minor": 5
}
