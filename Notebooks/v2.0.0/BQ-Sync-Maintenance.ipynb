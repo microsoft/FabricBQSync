{
 "cells": [
  {
   "cell_type": "markdown",
   "id": "ac814541-5efa-434d-93a6-096b3a7d7e1e",
   "metadata": {
    "nteract": {
     "transient": {
      "deleting": false
     }
    }
   },
   "source": [
    "# Fabric Sync Data Maintenance"
   ]
  },
  {
   "cell_type": "markdown",
   "id": "61634fe3-b899-4d09-9c02-7a77b9680904",
   "metadata": {
    "nteract": {
     "transient": {
      "deleting": false
     }
    }
   },
   "source": [
    "1. Update defaultLakehouse name to your Fabric Sync Metadata Lakehouse\n",
    "2. Verify correct Fabric Sync library version\n",
    "3. Update path to your Fabric Sync configuration file\n",
    "    - Example: <code>/lakehouse/default/Files/BQ_Sync_Process/config/fabric_bq_config.json</code>\n",
    "4. Schedule Notebook to run at desired frequency."
   ]
  },
  {
   "cell_type": "code",
   "execution_count": null,
   "id": "59bc8490-0168-4c3c-9691-98888858ec26",
   "metadata": {
    "jupyter": {
     "outputs_hidden": false,
     "source_hidden": false
    },
    "microsoft": {
     "language": "python",
     "language_group": "synapse_pyspark"
    },
    "nteract": {
     "transient": {
      "deleting": false
     }
    }
   },
   "outputs": [],
   "source": [
    "%%configure -f \n",
    "{\n",
    "    \"defaultLakehouse\": {\n",
    "        \"name\": \"<<<METADATA_LAKEHOUSE_NAME>>>\"\n",
    "    }\n",
    "}  "
   ]
  },
  {
   "cell_type": "code",
   "execution_count": null,
   "id": "cc768c48-3c3e-455b-850d-a48d363834c4",
   "metadata": {
    "jupyter": {
     "outputs_hidden": false,
     "source_hidden": false
    },
    "microsoft": {
     "language": "python",
     "language_group": "synapse_pyspark"
    },
    "nteract": {
     "transient": {
      "deleting": false
     }
    }
   },
   "outputs": [],
   "source": [
    "%pip install -q \"FabricSync==2.0.5\""
   ]
  },
  {
   "cell_type": "code",
   "execution_count": null,
   "id": "8c479e7b-120c-45b7-8363-adb7b9450ee6",
   "metadata": {
    "jupyter": {
     "outputs_hidden": true,
     "source_hidden": false
    },
    "microsoft": {
     "language": "python",
     "language_group": "synapse_pyspark"
    },
    "nteract": {
     "transient": {
      "deleting": false
     }
    },
    "tags": [
     "parameters"
    ]
   },
   "outputs": [],
   "source": [
    "config_json_path = \"<<<FILE API PATH TO FABRIC SYNC CONFIG FILE>>>\""
   ]
  },
  {
   "cell_type": "code",
   "execution_count": null,
   "id": "d76a0dda-8c58-4eb6-85e8-c67e9ec86442",
   "metadata": {
    "jupyter": {
     "outputs_hidden": false,
     "source_hidden": false
    },
    "microsoft": {
     "language": "python",
     "language_group": "synapse_pyspark"
    },
    "nteract": {
     "transient": {
      "deleting": false
     }
    }
   },
   "outputs": [],
   "source": [
    "from FabricSync.BQ.Sync import *\n",
    "\n",
    "token = mssparkutils.credentials.getToken(\"https://api.fabric.microsoft.com/\")\n",
    "fabric_maintenance = FabricSyncMaintenance(spark, config_json_path, token)\n",
    "fabric_maintenance.run()"
   ]
  }
 ],
 "metadata": {
  "dependencies": {
   "environment": {},
   "lakehouse": {}
  },
  "kernel_info": {
   "name": "synapse_pyspark"
  },
  "kernelspec": {
   "display_name": "Synapse PySpark",
   "language": "Python",
   "name": "synapse_pyspark"
  },
  "language_info": {
   "name": "python"
  },
  "microsoft": {
   "language": "python",
   "language_group": "synapse_pyspark",
   "ms_spell_check": {
    "ms_spell_check_language": "en"
   }
  },
  "nteract": {
   "version": "nteract-front-end@1.0.0"
  },
  "spark_compute": {
   "compute_id": "/trident/default",
   "session_options": {
    "conf": {
     "spark.synapse.nbs.session.timeout": "1200000"
    }
   }
  },
  "synapse_widget": {
   "state": {},
   "version": "0.1"
  },
  "widgets": {}
 },
 "nbformat": 4,
 "nbformat_minor": 5
}
