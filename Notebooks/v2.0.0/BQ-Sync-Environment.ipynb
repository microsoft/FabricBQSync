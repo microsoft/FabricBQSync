{
 "cells": [
  {
   "cell_type": "markdown",
   "id": "788a1843-dd15-4742-9172-97d4eb6d8095",
   "metadata": {
    "nteract": {
     "transient": {
      "deleting": false
     }
    }
   },
   "source": [
    "## <mark>Notebook must run in Environment with required libraries</mark>"
   ]
  },
  {
   "cell_type": "markdown",
   "id": "5165ca45-cb7a-4223-a3c0-7a79279a2236",
   "metadata": {
    "nteract": {
     "transient": {
      "deleting": false
     }
    }
   },
   "source": [
    "## BigQuery Spark Connector"
   ]
  },
  {
   "cell_type": "code",
   "execution_count": null,
   "id": "aed6109e-d15f-4b72-8b48-fd909a85dc89",
   "metadata": {
    "jupyter": {
     "outputs_hidden": true,
     "source_hidden": false
    },
    "microsoft": {
     "language": "python",
     "language_group": "synapse_pyspark"
    },
    "nteract": {
     "transient": {
      "deleting": false
     }
    }
   },
   "outputs": [],
   "source": [
    "%%configure -f \n",
    "{\n",
    "    \"defaultLakehouse\": {\n",
    "        \"name\": \"<<<METADATA_LAKEHOUSE_NAME>>>\",\n",
    "        \"id\": \"<<<METADATA_LAKEHOUSE_ID>>>\",\n",
    "        \"workspaceId\": \"<<<FABRIC_WORKSPACE_ID>>>\"\n",
    "    }\n",
    "}  "
   ]
  },
  {
   "cell_type": "code",
   "execution_count": null,
   "id": "11d51d25-4645-477f-8e0b-819476c77863",
   "metadata": {
    "jupyter": {
     "outputs_hidden": false,
     "source_hidden": false
    },
    "microsoft": {
     "language": "python",
     "language_group": "synapse_pyspark"
    },
    "nteract": {
     "transient": {
      "deleting": false
     }
    }
   },
   "outputs": [],
   "source": [
    "%pip install FabricSync --quiet --disable-pip-version-check"
   ]
  },
  {
   "cell_type": "markdown",
   "id": "da6ba8e3-9c37-49d2-8310-9fb0d0d4b3cb",
   "metadata": {
    "microsoft": {
     "language": "python",
     "language_group": "synapse_pyspark"
    },
    "nteract": {
     "transient": {
      "deleting": false
     }
    }
   },
   "source": [
    "# Config\n",
    "The set-up process creates a minimal config file based on the parameters provided. \n",
    "\n",
    "You can update the config file at anytime and manually upload to an alternate path. \n",
    "\n",
    "Note: If you upload to a OneLake destination, it must be in the default Lakehouse and the <code>config_json_path</code> should point to the File API path (example: <code>/lakehouse/default/Files/myconfigfile.json</code>)."
   ]
  },
  {
   "cell_type": "code",
   "execution_count": null,
   "id": "8c479e7b-120c-45b7-8363-adb7b9450ee6",
   "metadata": {
    "jupyter": {
     "outputs_hidden": false,
     "source_hidden": false
    },
    "microsoft": {
     "language": "python",
     "language_group": "synapse_pyspark"
    },
    "nteract": {
     "transient": {
      "deleting": false
     }
    },
    "tags": [
     "parameters"
    ]
   },
   "outputs": [],
   "source": [
    "config_json_path = \"<<<PATH_TO_USER_CONFIG>>>\"\n",
    "schedule_type = \"AUTO\"\n",
    "optimize_metadata = False"
   ]
  },
  {
   "cell_type": "code",
   "execution_count": null,
   "id": "fde4eedb-e50c-467b-bf69-f27821ce125a",
   "metadata": {
    "jupyter": {
     "outputs_hidden": false,
     "source_hidden": false
    },
    "microsoft": {
     "language": "python",
     "language_group": "synapse_pyspark"
    },
    "nteract": {
     "transient": {
      "deleting": false
     }
    }
   },
   "outputs": [],
   "source": [
    "from FabricSync.BQ.Sync import *"
   ]
  },
  {
   "cell_type": "markdown",
   "id": "b57f6f37-1733-4eee-a280-d67a2864ac13",
   "metadata": {
    "microsoft": {
     "language": "python",
     "language_group": "synapse_pyspark"
    },
    "nteract": {
     "transient": {
      "deleting": false
     }
    }
   },
   "source": [
    "# Running BQ Sync"
   ]
  },
  {
   "cell_type": "code",
   "execution_count": null,
   "id": "d76a0dda-8c58-4eb6-85e8-c67e9ec86442",
   "metadata": {
    "jupyter": {
     "outputs_hidden": false,
     "source_hidden": false
    },
    "microsoft": {
     "language": "python",
     "language_group": "synapse_pyspark"
    },
    "nteract": {
     "transient": {
      "deleting": false
     }
    }
   },
   "outputs": [],
   "source": [
    "bq_sync = BQSync(spark, config_json_path)\n",
    "bq_sync.sync_metadata()"
   ]
  },
  {
   "cell_type": "markdown",
   "id": "1f126c75-f27d-4528-a5ac-069afc07aa9d",
   "metadata": {
    "microsoft": {
     "language": "python",
     "language_group": "synapse_pyspark"
    },
    "nteract": {
     "transient": {
      "deleting": false
     }
    }
   },
   "source": [
    "Before you continue, carefully evaluate your config for correctness.\n",
    "\n",
    "Once you run the next step, your load configuration is locked and cannot be changed without manually resetting the sync metadata and sync'd data."
   ]
  },
  {
   "cell_type": "code",
   "execution_count": null,
   "id": "a866194e-7779-4983-8b1e-7add099d7eb1",
   "metadata": {
    "jupyter": {
     "outputs_hidden": false,
     "source_hidden": false
    },
    "microsoft": {
     "language": "python",
     "language_group": "synapse_pyspark"
    },
    "nteract": {
     "transient": {
      "deleting": false
     }
    }
   },
   "outputs": [],
   "source": [
    "bq_sync.run_schedule(schedule_type=schedule_type, sync_metadata=False, optimize_metadata=optimize_metadata)"
   ]
  }
 ],
 "metadata": {
  "dependencies": {
   "environment": {},
   "lakehouse": {
    "default_lakehouse": "8ba8f153-fd67-4cee-9301-8251decc0edb",
    "default_lakehouse_name": "bq_metadata",
    "default_lakehouse_workspace_id": "13f16035-d913-49ea-a01e-581fc9eca561"
   }
  },
  "kernel_info": {
   "name": "synapse_pyspark"
  },
  "kernelspec": {
   "display_name": "Synapse PySpark",
   "language": "Python",
   "name": "synapse_pyspark"
  },
  "language_info": {
   "name": "python"
  },
  "microsoft": {
   "language": "python",
   "language_group": "synapse_pyspark",
   "ms_spell_check": {
    "ms_spell_check_language": "en"
   }
  },
  "nteract": {
   "version": "nteract-front-end@1.0.0"
  },
  "spark_compute": {
   "compute_id": "/trident/default",
   "session_options": {
    "conf": {
     "spark.synapse.nbs.session.timeout": "1200000"
    }
   }
  },
  "synapse_widget": {
   "state": {},
   "version": "0.1"
  },
  "widgets": {}
 },
 "nbformat": 4,
 "nbformat_minor": 5
}
