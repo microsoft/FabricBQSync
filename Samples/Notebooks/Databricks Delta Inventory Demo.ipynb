{
 "cells": [
  {
   "cell_type": "code",
   "execution_count": 0,
   "metadata": {
    "application/vnd.databricks.v1+cell": {
     "cellMetadata": {
      "byteLimit": 2048000,
      "rowLimit": 10000
     },
     "inputWidgets": {},
     "nuid": "07ca54b6-1155-40e7-9c86-c57de0e78d20",
     "showTitle": false,
     "title": ""
    }
   },
   "outputs": [],
   "source": [
    "sc.addPyFile('https://raw.githubusercontent.com/microsoft/FabricBQSync/main/Packages/FabricSync/FabricSync/DeltaStorageInventory.py')"
   ]
  },
  {
   "cell_type": "code",
   "execution_count": 0,
   "metadata": {
    "application/vnd.databricks.v1+cell": {
     "cellMetadata": {
      "byteLimit": 2048000,
      "rowLimit": 10000
     },
     "inputWidgets": {},
     "nuid": "5b5a9098-a11f-48c5-9150-ae234a0e807f",
     "showTitle": false,
     "title": ""
    }
   },
   "outputs": [],
   "source": [
    "from DeltaStorageInventory import *"
   ]
  },
  {
   "cell_type": "code",
   "execution_count": 0,
   "metadata": {
    "application/vnd.databricks.v1+cell": {
     "cellMetadata": {
      "byteLimit": 2048000,
      "rowLimit": 10000
     },
     "inputWidgets": {},
     "nuid": "4e7e2575-edb2-4115-b7ee-d9493bce2dee",
     "showTitle": false,
     "title": ""
    }
   },
   "outputs": [],
   "source": [
    "inventory_dt = None #Corresponds to the blob inventory snapshot, defaults to current day\n",
    "inventory_rule = \"Demo\" #Blob Inventory rule name\n",
    "container = \"demodata\" #Scoped container for the Blob Inventory\n",
    "output_type = \"csv\" #Blob Inventory Output Type\n",
    "\n",
    "storage_prefix = \"/mnt/demodata/\" #Mount to storage container for delta tables\n",
    "lakehouse = \"Delta_Inventory\" #Lakehouse or Schema to store the inventory output in\n",
    "inventory_path = \"/mnt/demodata/\" #Mount to storage container for blob inventory files\n",
    "parallelism = 5\n",
    "track_history = False #Use if you want to analyze delta inventory over time"
   ]
  },
  {
   "cell_type": "code",
   "execution_count": 0,
   "metadata": {
    "application/vnd.databricks.v1+cell": {
     "cellMetadata": {
      "byteLimit": 2048000,
      "rowLimit": 10000
     },
     "collapsed": true,
     "inputWidgets": {},
     "nuid": "13a75f3c-c3e4-4bbd-a119-90f1063d9722",
     "showTitle": false,
     "title": ""
    }
   },
   "outputs": [],
   "source": [
    "spark.sql(f\"CREATE SCHEMA IF NOT EXISTS {lakehouse}\")"
   ]
  },
  {
   "cell_type": "code",
   "execution_count": 0,
   "metadata": {
    "application/vnd.databricks.v1+cell": {
     "cellMetadata": {
      "byteLimit": 2048000,
      "rowLimit": 10000
     },
     "inputWidgets": {},
     "nuid": "4e01241e-4975-4cd0-8aaf-a49b4622a56c",
     "showTitle": false,
     "title": ""
    }
   },
   "outputs": [],
   "source": [
    "delta_inventory = DeltaStorageInventory(session= spark, \\\n",
    "    storage_prefix=storage_prefix, \n",
    "    container=container,\n",
    "    target_lakehouse=lakehouse, \n",
    "    parallelism=parallelism,\n",
    "    track_history=track_history)\n",
    "\n",
    "delta_inventory.run_from_storage_inventory(rule=inventory_rule, \\\n",
    "    inventory_data_path=inventory_path, \\\n",
    "    inventory_output_type=output_type)"
   ]
  },
  {
   "cell_type": "markdown",
   "metadata": {
    "application/vnd.databricks.v1+cell": {
     "cellMetadata": {},
     "inputWidgets": {},
     "nuid": "3ac7b992-d1db-440b-b2f2-b35cd031284f",
     "showTitle": false,
     "title": ""
    }
   },
   "source": [
    "# Example Delta Inventory Queries"
   ]
  },
  {
   "cell_type": "code",
   "execution_count": 0,
   "metadata": {
    "application/vnd.databricks.v1+cell": {
     "cellMetadata": {
      "byteLimit": 2048000,
      "implicitDf": true,
      "rowLimit": 10000
     },
     "inputWidgets": {},
     "nuid": "469dc3b6-43e5-4a0a-87e7-a5e34d6f7f34",
     "showTitle": false,
     "title": ""
    }
   },
   "outputs": [],
   "source": [
    "%sql\n",
    "SELECT\n",
    "  delta_table,\n",
    "  array_min(delta_versions) as min_version,\n",
    "  array_max(delta_versions) as max_version\n",
    "FROM delta_inventory.delta_tables"
   ]
  },
  {
   "cell_type": "code",
   "execution_count": 0,
   "metadata": {
    "application/vnd.databricks.v1+cell": {
     "cellMetadata": {
      "byteLimit": 2048000,
      "implicitDf": true,
      "rowLimit": 10000
     },
     "inputWidgets": {},
     "nuid": "3a866ac4-48fe-405a-b792-2208cd8fd5a0",
     "showTitle": false,
     "title": ""
    }
   },
   "outputs": [],
   "source": [
    "%sql\n",
    "SELECT *\n",
    "FROM delta_inventory.delta_table_snapshot"
   ]
  },
  {
   "cell_type": "code",
   "execution_count": 0,
   "metadata": {
    "application/vnd.databricks.v1+cell": {
     "cellMetadata": {
      "byteLimit": 2048000,
      "implicitDf": true,
      "rowLimit": 10000
     },
     "inputWidgets": {},
     "nuid": "69fc0a8d-0484-402a-a7dc-d4ef67cf1c1a",
     "showTitle": false,
     "title": ""
    }
   },
   "outputs": [],
   "source": [
    "%sql\n",
    "SELECT\n",
    "  delta_table,\n",
    "  count(DISTINCT delta_partition) as partition_count,\n",
    "  sum(files_count) as file_count,\n",
    "  sum(file_size) as file_size,\n",
    "  sum(removed_files_count) as removed_files_count,\n",
    "  sum(removed_file_size) as removed_file_size\n",
    "FROM delta_inventory.delta_table_partitions\n",
    "GROUP BY delta_table"
   ]
  },
  {
   "cell_type": "code",
   "execution_count": 0,
   "metadata": {
    "application/vnd.databricks.v1+cell": {
     "cellMetadata": {
      "byteLimit": 2048000,
      "implicitDf": true,
      "rowLimit": 10000
     },
     "inputWidgets": {},
     "nuid": "665d772a-ec17-4d8d-9699-8b1dd572ad80",
     "showTitle": false,
     "title": ""
    }
   },
   "outputs": [],
   "source": [
    "%sql\n",
    "SELECT\n",
    "  DISTINCT operation\n",
    "FROM delta_inventory.delta_table_history"
   ]
  },
  {
   "cell_type": "code",
   "execution_count": 0,
   "metadata": {
    "application/vnd.databricks.v1+cell": {
     "cellMetadata": {
      "byteLimit": 2048000,
      "implicitDf": true,
      "rowLimit": 10000
     },
     "inputWidgets": {},
     "nuid": "c3a80de6-afe6-4830-a02d-432e5b3494e2",
     "showTitle": false,
     "title": ""
    }
   },
   "outputs": [],
   "source": [
    "%sql\n",
    "SELECT * FROM (\n",
    "  SELECT\n",
    "    delta_table,\n",
    "    operation\n",
    "  FROM delta_inventory.delta_table_history\n",
    "  WHERE operation NOT IN (\n",
    "    'CREATE OR REPLACE TABLE AS SELECT',\n",
    "    'CREATE TABLE AS SELECT')\n",
    ")\n",
    "PIVOT (\n",
    "  COUNT(*)\n",
    "  FOR operation in (\n",
    "    'MERGE',\n",
    "    'WRITE',\n",
    "    'VACUUM END',\n",
    "    'VACUUM START',\n",
    "    'OPTIMIZE'\n",
    "  )\n",
    ")"
   ]
  },
  {
   "cell_type": "code",
   "execution_count": 0,
   "metadata": {
    "application/vnd.databricks.v1+cell": {
     "cellMetadata": {
      "byteLimit": 2048000,
      "implicitDf": true,
      "rowLimit": 10000
     },
     "inputWidgets": {},
     "nuid": "41dc166e-d804-40ef-b5f8-2bbccb5c68b6",
     "showTitle": false,
     "title": ""
    }
   },
   "outputs": [],
   "source": [
    "%sql\n",
    "SELECT\n",
    "  f.delta_table,\n",
    "  f.file_info[\"delta_version\"] as delta_version,\n",
    "  h.`timestamp` as version_dt,\n",
    "  SUM(CASE WHEN f.file_info[\"operation\"] = \"ADD\" THEN f.file_info[\"file_size\"] ELSE 0 END) as active_size,\n",
    "  SUM(CASE WHEN f.file_info[\"operation\"] = \"REMOVE\" THEN f.file_info[\"file_size\"] ELSE 0 END) as out_of_scope_size\n",
    "FROM delta_inventory.delta_table_files f\n",
    "JOIN delta_inventory.delta_table_history h ON f.delta_table_id=h.delta_table_id \n",
    "  AND f.file_info[\"delta_version\"] = h.version\n",
    "  AND f.inventory_date=h.inventory_date\n",
    "GROUP BY\n",
    "  f.delta_table,\n",
    "  delta_version,\n",
    "  version_dt"
   ]
  }
 ],
 "metadata": {
  "application/vnd.databricks.v1+notebook": {
   "dashboards": [],
   "language": "python",
   "notebookMetadata": {
    "mostRecentlyExecutedCommandWithImplicitDF": {
     "commandId": 794650981689212,
     "dataframes": [
      "_sqldf"
     ]
    },
    "pythonIndentUnit": 4
   },
   "notebookName": "Databricks Delta Inventory Demo",
   "widgets": {}
  }
 },
 "nbformat": 4,
 "nbformat_minor": 0
}
